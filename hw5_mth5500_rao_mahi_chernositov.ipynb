{
 "cells": [
  {
   "cell_type": "markdown",
   "metadata": {},
   "source": [
    "## Homework 5 - Numerical "
   ]
  },
  {
   "cell_type": "code",
   "execution_count": 4,
   "metadata": {},
   "outputs": [],
   "source": [
    "import math\n",
    "import numpy as np \n",
    "import matplotlib.pyplot as plt \n",
    "plt.style.use('seaborn')\n",
    "%matplotlib inline"
   ]
  },
  {
   "cell_type": "code",
   "execution_count": 5,
   "metadata": {},
   "outputs": [],
   "source": [
    "np.random.seed(0)"
   ]
  },
  {
   "cell_type": "code",
   "execution_count": 6,
   "metadata": {},
   "outputs": [],
   "source": [
    "# time index for the data \n",
    "time_index = np.arange(0.01, 1.01, 0.01)"
   ]
  },
  {
   "cell_type": "code",
   "execution_count": 16,
   "metadata": {},
   "outputs": [],
   "source": [
    "# time incrementing per each value of t\n",
    "time_increment = time_index[1:] - time_index[:-1]"
   ]
  },
  {
   "cell_type": "markdown",
   "metadata": {},
   "source": [
    "Simulate 100 paths for the diffusions below on $[0,1]$ using the Euler scheme (see Chapter 7) for a discretization of $0.01$"
   ]
  },
  {
   "cell_type": "code",
   "execution_count": 7,
   "metadata": {},
   "outputs": [],
   "source": [
    "# standard brownian motion covariance matrix \n",
    "bm_cov = np.reshape(np.array([i if i < j else j for j in time_index for i in time_index]), (100,100))"
   ]
  },
  {
   "cell_type": "code",
   "execution_count": 22,
   "metadata": {},
   "outputs": [],
   "source": [
    "# the standard brownian motion to be implemented \n",
    "brownian_motion = np.insert(np.array([np.linalg.cholesky(bm_cov).dot(np.random.normal(loc=0, \n",
    "                                                                                      scale=1, \n",
    "                                                                                      size=100)) for _ in range(100)]), \n",
    "                            obj=0, \n",
    "                            values=0,\n",
    "                            axis=1)"
   ]
  },
  {
   "cell_type": "code",
   "execution_count": 32,
   "metadata": {},
   "outputs": [],
   "source": [
    "brownian_increments = np.delete(np.roll(brownian_motion,-1) - brownian_motion, obj=100, axis=1)"
   ]
  },
  {
   "cell_type": "code",
   "execution_count": 33,
   "metadata": {},
   "outputs": [
    {
     "data": {
      "text/plain": [
       "array([[ 0.05559627,  0.08924739, -0.04223148, ..., -0.00654884,\n",
       "         0.03481692,  0.06632581],\n",
       "       [-0.11046166, -0.00309363,  0.15788652, ..., -0.05937774,\n",
       "        -0.20118803,  0.05897036],\n",
       "       [-0.08963697, -0.1962732 ,  0.15848205, ...,  0.03077326,\n",
       "         0.01592505, -0.1958549 ],\n",
       "       ...,\n",
       "       [ 0.18013814,  0.0493093 ,  0.07483561, ..., -0.08812942,\n",
       "         0.00249902, -0.03142262],\n",
       "       [-0.15077643, -0.05018022,  0.1016574 , ...,  0.00616048,\n",
       "        -0.06883229,  0.06314316],\n",
       "       [ 0.0214745 , -0.04651605,  0.00913353, ..., -0.01114131,\n",
       "         0.1018291 ,  0.01798266]])"
      ]
     },
     "execution_count": 33,
     "metadata": {},
     "output_type": "execute_result"
    }
   ],
   "source": [
    "brownian_increments"
   ]
  },
  {
   "cell_type": "code",
   "execution_count": 57,
   "metadata": {},
   "outputs": [
    {
     "data": {
      "text/plain": [
       "array([ 0.05559627,  0.08924739, -0.04223148,  0.0104714 ])"
      ]
     },
     "execution_count": 57,
     "metadata": {},
     "output_type": "execute_result"
    }
   ],
   "source": [
    "brownian_increments[0][:4]"
   ]
  },
  {
   "cell_type": "code",
   "execution_count": 59,
   "metadata": {},
   "outputs": [
    {
     "name": "stdout",
     "output_type": "stream",
     "text": [
      "1.0555962679709798\n",
      "1.1498054784438514\n",
      "1.1012474886031225\n",
      "1.1127790947966143\n"
     ]
    }
   ],
   "source": [
    "temp = 1\n",
    "for i in brownian_increments[0][:4]:\n",
    "    print(temp + (temp * i))\n",
    "    temp += temp * i"
   ]
  },
  {
   "cell_type": "code",
   "execution_count": 61,
   "metadata": {},
   "outputs": [
    {
     "data": {
      "text/plain": [
       "array([ 5.55962680e-02,  4.96182174e-03, -2.09545088e-04, -2.19423105e-06])"
      ]
     },
     "execution_count": 61,
     "metadata": {},
     "output_type": "execute_result"
    }
   ],
   "source": [
    "brownian_increments[0][:4].cumprod()"
   ]
  },
  {
   "cell_type": "code",
   "execution_count": null,
   "metadata": {},
   "outputs": [],
   "source": []
  },
  {
   "cell_type": "markdown",
   "metadata": {},
   "source": [
    "b) $dX_t = -X_tdt + dB_t, \\ \\ X_0 = 1$"
   ]
  },
  {
   "cell_type": "code",
   "execution_count": null,
   "metadata": {},
   "outputs": [],
   "source": []
  },
  {
   "cell_type": "code",
   "execution_count": null,
   "metadata": {},
   "outputs": [],
   "source": []
  },
  {
   "cell_type": "markdown",
   "metadata": {},
   "source": [
    "c) $dZ_t = 0.5dt + \\sqrt{Z_t}dB_t, \\ \\ Z_0 = 5$\n",
    "\n",
    "Discard the path if they become negative here. Out of 100, how many paths are discarded?"
   ]
  },
  {
   "cell_type": "code",
   "execution_count": null,
   "metadata": {},
   "outputs": [],
   "source": []
  },
  {
   "cell_type": "code",
   "execution_count": null,
   "metadata": {},
   "outputs": [],
   "source": []
  },
  {
   "cell_type": "code",
   "execution_count": null,
   "metadata": {},
   "outputs": [],
   "source": []
  }
 ],
 "metadata": {
  "kernelspec": {
   "display_name": "Python 3",
   "language": "python",
   "name": "python3"
  },
  "language_info": {
   "codemirror_mode": {
    "name": "ipython",
    "version": 3
   },
   "file_extension": ".py",
   "mimetype": "text/x-python",
   "name": "python",
   "nbconvert_exporter": "python",
   "pygments_lexer": "ipython3",
   "version": "3.7.0"
  }
 },
 "nbformat": 4,
 "nbformat_minor": 2
}
