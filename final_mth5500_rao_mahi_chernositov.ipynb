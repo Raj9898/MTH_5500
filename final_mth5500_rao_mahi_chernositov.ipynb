{
 "cells": [
  {
   "cell_type": "markdown",
   "metadata": {},
   "source": [
    "## Final - Numerical "
   ]
  },
  {
   "cell_type": "code",
   "execution_count": 1,
   "metadata": {},
   "outputs": [],
   "source": [
    "import math\n",
    "import scipy.stats as ss \n",
    "import numpy as np \n",
    "import matplotlib.pyplot as plt \n",
    "plt.style.use('seaborn-whitegrid')\n",
    "import seaborn as sns\n",
    "%matplotlib inline"
   ]
  },
  {
   "cell_type": "code",
   "execution_count": 2,
   "metadata": {},
   "outputs": [],
   "source": [
    "np.random.seed(1)"
   ]
  },
  {
   "cell_type": "code",
   "execution_count": 3,
   "metadata": {},
   "outputs": [],
   "source": [
    "# time index for the data with 1/100 discretization\n",
    "time_index = np.arange(0.01, 1.01, 0.01)"
   ]
  },
  {
   "cell_type": "code",
   "execution_count": 4,
   "metadata": {},
   "outputs": [],
   "source": [
    "# standard brownian motion covariance matrix \n",
    "bm_cov = np.reshape(np.array([i if i < j else j for j in time_index for i in time_index]), (100,100))"
   ]
  },
  {
   "cell_type": "code",
   "execution_count": 5,
   "metadata": {},
   "outputs": [],
   "source": [
    "# the standard brownian motion to be implemented \n",
    "brownian_motion = np.insert(np.array([np.linalg.cholesky(bm_cov).dot(np.random.normal(loc=0, \n",
    "                                                                                      scale=1, \n",
    "                                                                                      size=100)) for _ in range(100000)]), \n",
    "                                      obj=0, values=0, axis=1)"
   ]
  },
  {
   "cell_type": "code",
   "execution_count": 6,
   "metadata": {},
   "outputs": [
    {
     "data": {
      "text/plain": [
       "array([[ 0.        ,  0.16243454,  0.1012589 , ...,  0.5980254 ,\n",
       "         0.53602532,  0.60582852],\n",
       "       [ 0.        , -0.04471286,  0.07773791, ...,  1.3424084 ,\n",
       "         1.42350357,  1.52794778],\n",
       "       [ 0.        , -0.04008782,  0.04231274, ...,  0.13517043,\n",
       "         0.0396279 ,  0.09821895],\n",
       "       ...,\n",
       "       [ 0.        , -0.12741546, -0.09444834, ..., -0.08712292,\n",
       "        -0.13733226, -0.12386239],\n",
       "       [ 0.        , -0.06349617, -0.05982003, ..., -1.41911905,\n",
       "        -1.51724478, -1.4409592 ],\n",
       "       [ 0.        , -0.09756999, -0.00791429, ..., -0.68620901,\n",
       "        -0.75681393, -0.8265847 ]])"
      ]
     },
     "execution_count": 6,
     "metadata": {},
     "output_type": "execute_result"
    }
   ],
   "source": [
    "brownian_motion"
   ]
  },
  {
   "cell_type": "code",
   "execution_count": null,
   "metadata": {},
   "outputs": [],
   "source": []
  }
 ],
 "metadata": {
  "kernelspec": {
   "display_name": "Python 3",
   "language": "python",
   "name": "python3"
  },
  "language_info": {
   "codemirror_mode": {
    "name": "ipython",
    "version": 3
   },
   "file_extension": ".py",
   "mimetype": "text/x-python",
   "name": "python",
   "nbconvert_exporter": "python",
   "pygments_lexer": "ipython3",
   "version": "3.7.0"
  }
 },
 "nbformat": 4,
 "nbformat_minor": 2
}
