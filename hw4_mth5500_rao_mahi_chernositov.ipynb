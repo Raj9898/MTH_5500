{
 "cells": [
  {
   "cell_type": "markdown",
   "metadata": {},
   "source": [
    "## Homework 4 - Numerical "
   ]
  },
  {
   "cell_type": "code",
   "execution_count": 1,
   "metadata": {},
   "outputs": [],
   "source": [
    "import math\n",
    "import numpy as np \n",
    "import matplotlib.pyplot as plt \n",
    "plt.style.use('seaborn')\n",
    "%matplotlib inline"
   ]
  },
  {
   "cell_type": "markdown",
   "metadata": {},
   "source": [
    "## Gambler’s ruin at the French Roulette\n",
    "Consider the scenario where you are gambling 1 at the French Roulette on the Reds. Therefore you gain 1 with probability 18/38 and you lose a dollar with probability 20/38. The goal is to estimate the probability of your fortune to reach 200 before it reaches 0."
   ]
  },
  {
   "cell_type": "code",
   "execution_count": 69,
   "metadata": {},
   "outputs": [],
   "source": [
    "success = 18/38"
   ]
  },
  {
   "cell_type": "code",
   "execution_count": 70,
   "metadata": {},
   "outputs": [],
   "source": [
    "size = 50000"
   ]
  },
  {
   "cell_type": "markdown",
   "metadata": {},
   "source": [
    "#### (a) Write a program in Python to simulate the game as a random walk path from time 0 to time 50,000 if you start with 100."
   ]
  },
  {
   "cell_type": "code",
   "execution_count": 74,
   "metadata": {},
   "outputs": [
    {
     "data": {
      "text/plain": [
       "[<matplotlib.lines.Line2D at 0x29279983c18>]"
      ]
     },
     "execution_count": 74,
     "metadata": {},
     "output_type": "execute_result"
    },
    {
     "data": {
      "image/png": "[encoded data removed]",
      "text/plain": [
       "<Figure size 1080x360 with 1 Axes>"
      ]
     },
     "metadata": {
      "needs_background": "light"
     },
     "output_type": "display_data"
    }
   ],
   "source": [
    "plt.figure(figsize=(15,5))\n",
    "plt.xlabel('Time Stamps')\n",
    "plt.ylabel('Cummulative Dollar Return')\n",
    "plt.title(\"Single Path of Gambler's ruin at Roulette\")\n",
    "\n",
    "# generates 50000 uniforms to determine when the player wins or loses\n",
    "a = np.random.uniform(low=0.0,high=1.0,size=size)\n",
    "# generates cummulative sum, after defining points where we increment by 1 or lose money by 1\n",
    "sample = np.cumsum(np.insert(np.where(a < success, 1, -1),0,100))\n",
    "plt.plot(np.where(sample < 0, 0, sample))"
   ]
  },
  {
   "cell_type": "markdown",
   "metadata": {},
   "source": [
    "#### (b) Use the above to estimate the probability of reaching 200 before 100 on a sample of 10,000 paths if you start with 100."
   ]
  },
  {
   "cell_type": "code",
   "execution_count": null,
   "metadata": {},
   "outputs": [],
   "source": [
    "N = 10000\n",
    "plt.figure(figsize=(15,5))\n",
    "plt.xlabel('Time Stamps')\n",
    "plt.ylabel('Cummulative Dollar Return')\n",
    "plt.title(\"{} Path of Gambler's ruin at Roulette\".format(N))\n",
    "\n",
    "hit_2b1 = 0\n",
    "\n",
    "for _ in range(N):\n",
    "    # generate cummulative sum of the simulation, starting at 100\n",
    "    a = np.random.uniform(low=0.0,high=1.0,size=size)\n",
    "    v = np.cumsum(np.insert(np.where(a < success, 1, -1),0,100))\n",
    "    \n",
    "    # check to see if the path reaches 200\n",
    "    a1 = np.argwhere(v[1:]==200)\n",
    "    \n",
    "    if (a1.size > 0):\n",
    "        a2 = np.argwhere(v[1:]==100)\n",
    "        # check to see if the index position of 200 occurs before 100, if so add to the counter\n",
    "        if (a1[0][0] < a2[0][0]):\n",
    "            hit_2b1 += 1\n",
    "            \n",
    "    plt.plot(np.where(v < 0, 0, v))\n",
    "    \n",
    "print(\"The probability of hitting 200 before 100 is {}\".format(hit_2b1/N))"
   ]
  },
  {
   "cell_type": "markdown",
   "metadata": {},
   "source": [
    "#### (C) Repeat the above on a sample of 100,000 paths."
   ]
  },
  {
   "cell_type": "code",
   "execution_count": null,
   "metadata": {},
   "outputs": [],
   "source": [
    "N = 100000\n",
    "plt.figure(figsize=(15,5))\n",
    "plt.xlabel('Time Stamps')\n",
    "plt.ylabel('Cummulative Dollar Return')\n",
    "plt.title(\"{} Path of Gambler's ruin at Roulette\".format(N))\n",
    "\n",
    "hit_2b1 = 0\n",
    "\n",
    "for _ in range(N):\n",
    "    # generate cummulative sum of the simulation, starting at 100\n",
    "    a = np.random.uniform(low=0.0,high=1.0,size=size)\n",
    "    v = np.cumsum(np.insert(np.where(a < success, 1, -1),0,100))\n",
    "    \n",
    "    # check to see if the path reaches 200\n",
    "    a1 = np.argwhere(v[1:]==200)\n",
    "    \n",
    "    if (a1.size > 0):\n",
    "        a2 = np.argwhere(v[1:]==100)\n",
    "        # check to see if the index position of 200 occurs before 100, if so add to the counter\n",
    "        if (a1[0][0] < a2[0][0]):\n",
    "            hit_2b1 += 1\n",
    "            \n",
    "    plt.plot(np.where(v < 0, 0, v))\n",
    "    \n",
    "print(\"The probability of hitting 200 before 100 is {}\".format(hit_2b1/N))"
   ]
  },
  {
   "cell_type": "markdown",
   "metadata": {},
   "source": [
    "#### (d) Repeat Question b) with starting fortune 80, 90 ? What is your guess for the starting amount that gives equal probability 1/2 to reach 200 and 0?"
   ]
  },
  {
   "cell_type": "code",
   "execution_count": null,
   "metadata": {},
   "outputs": [],
   "source": [
    "N = 10000\n",
    "plt.figure(figsize=(15,5))\n",
    "plt.xlabel('Time Stamps')\n",
    "plt.ylabel('Cummulative Dollar Return')\n",
    "plt.title(\"{} Path of Gambler's ruin at Roulette\".format(N))\n",
    "\n",
    "hit_2b1 = 0\n",
    "\n",
    "for _ in range(N):\n",
    "    # generate cummulative sum of the simulation, starting at 100\n",
    "    a = np.random.uniform(low=0.0,high=1.0,size=size)\n",
    "    v = np.cumsum(np.insert(np.where(a < success, 1, -1),0,80))\n",
    "    \n",
    "    # check to see if the path reaches 200\n",
    "    a1 = np.argwhere(v[1:]==200)\n",
    "    \n",
    "    if (a1.size > 0):\n",
    "        a2 = np.argwhere(v[1:]==100)\n",
    "        # check to see if the index position of 200 occurs before 100, if so add to the counter\n",
    "        if (a1[0][0] < a2[0][0]):\n",
    "            hit_2b1 += 1\n",
    "            \n",
    "    plt.plot(np.where(v < 0, 0, v))\n",
    "    \n",
    "print(\"The probability of hitting 200 before 100 is {}\".format(hit_2b1/N))"
   ]
  },
  {
   "cell_type": "code",
   "execution_count": null,
   "metadata": {},
   "outputs": [],
   "source": [
    "N = 10000\n",
    "plt.figure(figsize=(15,5))\n",
    "plt.xlabel('Time Stamps')\n",
    "plt.ylabel('Cummulative Dollar Return')\n",
    "plt.title(\"{} Path of Gambler's ruin at Roulette\".format(N))\n",
    "\n",
    "hit_2b1 = 0\n",
    "\n",
    "for _ in range(N):\n",
    "    # generate cummulative sum of the simulation, starting at 100\n",
    "    a = np.random.uniform(low=0.0,high=1.0,size=size)\n",
    "    v = np.cumsum(np.insert(np.where(a < success, 1, -1),0,90))\n",
    "    \n",
    "    # check to see if the path reaches 200\n",
    "    a1 = np.argwhere(v[1:]==200)\n",
    "    \n",
    "    if (a1.size > 0):\n",
    "        a2 = np.argwhere(v[1:]==100)\n",
    "        # check to see if the index position of 200 occurs before 100, if so add to the counter\n",
    "        if (a1[0][0] < a2[0][0]):\n",
    "            hit_2b1 += 1\n",
    "            \n",
    "    plt.plot(np.where(v < 0, 0, v))\n",
    "    \n",
    "print(\"The probability of hitting 200 before 100 is {}\".format(hit_2b1/N))"
   ]
  },
  {
   "cell_type": "code",
   "execution_count": null,
   "metadata": {},
   "outputs": [],
   "source": []
  }
 ],
 "metadata": {
  "kernelspec": {
   "display_name": "Python 3",
   "language": "python",
   "name": "python3"
  },
  "language_info": {
   "codemirror_mode": {
    "name": "ipython",
    "version": 3
   },
   "file_extension": ".py",
   "mimetype": "text/x-python",
   "name": "python",
   "nbconvert_exporter": "python",
   "pygments_lexer": "ipython3",
   "version": "3.7.0"
  }
 },
 "nbformat": 4,
 "nbformat_minor": 2
}
