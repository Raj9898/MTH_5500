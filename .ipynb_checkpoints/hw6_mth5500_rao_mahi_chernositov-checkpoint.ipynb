{
 "cells": [
  {
   "cell_type": "markdown",
   "metadata": {},
   "source": [
    "## Homework 6 - Numerical "
   ]
  },
  {
   "cell_type": "code",
   "execution_count": 38,
   "metadata": {},
   "outputs": [],
   "source": [
    "import math\n",
    "import scipy.stats as ss \n",
    "import numpy as np \n",
    "import matplotlib.pyplot as plt \n",
    "plt.style.use('seaborn')\n",
    "%matplotlib inline"
   ]
  },
  {
   "cell_type": "code",
   "execution_count": 39,
   "metadata": {},
   "outputs": [],
   "source": [
    "np.random.seed(0)"
   ]
  },
  {
   "cell_type": "code",
   "execution_count": 40,
   "metadata": {},
   "outputs": [],
   "source": [
    "# time index for the data \n",
    "time_index = np.arange(0.01, 1.01, 0.001)"
   ]
  },
  {
   "cell_type": "code",
   "execution_count": 41,
   "metadata": {},
   "outputs": [],
   "source": [
    "# time incrementing per each value of t\n",
    "time_increment = time_index[1:] - time_index[:-1]"
   ]
  },
  {
   "cell_type": "markdown",
   "metadata": {},
   "source": [
    "Simulate 100 paths for the diffusions below on $[0,1]$ using the Euler scheme (see Chapter 7) for a discretization of $0.01$"
   ]
  },
  {
   "cell_type": "code",
   "execution_count": 42,
   "metadata": {},
   "outputs": [],
   "source": [
    "# standard brownian motion covariance matrix \n",
    "bm_cov = np.reshape(np.array([i if i < j else j for j in time_index for i in time_index]), (1000,1000))"
   ]
  },
  {
   "cell_type": "code",
   "execution_count": 43,
   "metadata": {},
   "outputs": [],
   "source": [
    "# the standard brownian motion to be implemented \n",
    "brownian_motion = np.insert(np.array([np.linalg.cholesky(bm_cov).dot(np.random.normal(loc=0, \n",
    "                                                                                      scale=1, \n",
    "                                                                                      size=1000)) for _ in range(1000)]), \n",
    "                            obj=0, \n",
    "                            values=0,\n",
    "                            axis=1)"
   ]
  },
  {
   "cell_type": "code",
   "execution_count": 44,
   "metadata": {},
   "outputs": [],
   "source": [
    "brownian_increments = np.delete(np.roll(brownian_motion,-1) - brownian_motion, obj=1000, axis=1)"
   ]
  },
  {
   "cell_type": "code",
   "execution_count": 67,
   "metadata": {},
   "outputs": [
    {
     "data": {
      "text/plain": [
       "array([[ 0.17640523,  0.01265408,  0.03095041, ...,  0.00297862,\n",
       "        -0.03629064, -0.01132456],\n",
       "       [ 0.05559627,  0.0282225 , -0.01335477, ...,  0.00501012,\n",
       "        -0.03611009, -0.04145652],\n",
       "       [-0.15329211, -0.05413725,  0.00145892, ..., -0.00608436,\n",
       "        -0.03834311, -0.00254875],\n",
       "       ...,\n",
       "       [ 0.04362489, -0.04102202,  0.06315627, ..., -0.01330407,\n",
       "        -0.00344507, -0.0142965 ],\n",
       "       [-0.01003402, -0.00424926, -0.00476249, ...,  0.01110308,\n",
       "         0.04304031, -0.04461615],\n",
       "       [-0.12446885, -0.0380794 ,  0.03138746, ..., -0.02521229,\n",
       "         0.02766222,  0.04338109]])"
      ]
     },
     "execution_count": 67,
     "metadata": {},
     "output_type": "execute_result"
    }
   ],
   "source": [
    "brownian_increments"
   ]
  },
  {
   "cell_type": "markdown",
   "metadata": {},
   "source": [
    "Consider the Black-Scholes model under its risk-neutral probability\n",
    "\n",
    "$$ d\\tilde{S_t} = \\sigma \\tilde{S_t} d\\tilde{B_t}, \\ \\ \\ \\ \\ \\ \\  S_0 = 100 \\ \\ \\ \\ \\ \\ \\   \\sigma=0.3$$\n",
    "\n",
    "for some Brownian motion $(\\tilde{B_t})$. For simplicity, assume that the interest rate is 0. Use the pricing formula $\\tilde{O_0}=\\mathop{{}\\mathbb{E}}[\\tilde{O_1}]$ to price the following options with maturity 1\n",
    "using the average over 1000 paths with a discretization of 0.001"
   ]
  },
  {
   "cell_type": "code",
   "execution_count": 46,
   "metadata": {},
   "outputs": [],
   "source": [
    "def present_value(strike:float, maturity:float, risk_free:float=0.0):\n",
    "    return strike*math.exp(-risk_free*maturity)"
   ]
  },
  {
   "cell_type": "code",
   "execution_count": 47,
   "metadata": {},
   "outputs": [],
   "source": [
    "def black_scholes_call(stock:float, strike:float, sigma:float, maturity:float, risk_free:float=0.0):\n",
    "    vol_time = sigma*math.sqrt(maturity)\n",
    "    d1 = (1/vol_time) * (math.log(stock/strike) + (risk_free+(sigma**2/2))*maturity)\n",
    "    d2 = d1 - vol_time\n",
    "    \n",
    "    return ss.norm.cdf(d1)*stock - ss.norm.cdf(d2)*present_value(strike, maturity, risk_free)"
   ]
  },
  {
   "cell_type": "code",
   "execution_count": 48,
   "metadata": {},
   "outputs": [],
   "source": [
    "# for calculating the itterative expression\n",
    "def sFunc(brownian:np.array, time_index: np.array, sigma:int, initial:int, size:int):\n",
    "    temp = initial\n",
    "    new_arr = [initial]*(size+1)\n",
    "    for i in range(size):\n",
    "        new_arr[i+1] = temp + (temp * brownian[i] * sigma)  \n",
    "        temp += (temp * brownian[i] * sigma)  \n",
    "    return np.array(new_arr) "
   ]
  },
  {
   "cell_type": "code",
   "execution_count": 74,
   "metadata": {},
   "outputs": [],
   "source": [
    "stock_plot = np.apply_along_axis(sFunc, 1, np.delete(brownian_increments, 999, 1), time_increment, 0.3, 100, 999)"
   ]
  },
  {
   "cell_type": "code",
   "execution_count": null,
   "metadata": {},
   "outputs": [],
   "source": []
  },
  {
   "cell_type": "markdown",
   "metadata": {},
   "source": [
    "### Standard Call Option\n",
    "$O_1 = (S_1 - 110)^+$"
   ]
  },
  {
   "cell_type": "code",
   "execution_count": 76,
   "metadata": {},
   "outputs": [],
   "source": [
    "# simple call option\n",
    "p1 = round(black_scholes_call(100, 110, 0.3, 1, 0), 4)"
   ]
  },
  {
   "cell_type": "code",
   "execution_count": 75,
   "metadata": {},
   "outputs": [],
   "source": [
    "s1 = np.reshape(stock_plot, (1000,1000))[:,-1]"
   ]
  },
  {
   "cell_type": "code",
   "execution_count": 94,
   "metadata": {},
   "outputs": [],
   "source": [
    "# simulated price for call option, taking average of payouts\n",
    "pA = round(np.average(np.array([i if i>0 else 0 for i in (s1-110)])), 4)"
   ]
  },
  {
   "cell_type": "code",
   "execution_count": 125,
   "metadata": {},
   "outputs": [
    {
     "name": "stdout",
     "output_type": "stream",
     "text": [
      "-------------------------------------------------------------------\n",
      "The price of the option according to black-scholes is:   $8.141.\n",
      "Our simulation yeilded a price of                        $8.8015\n",
      "-------------------------------------------------------------------\n"
     ]
    }
   ],
   "source": [
    "print(\"-------------------------------------------------------------------\")\n",
    "print(\"The price of the option according to black-scholes is:   ${}.\\nOur simulation yeilded a price of                        ${}\".format(p1, pA))\n",
    "print(\"-------------------------------------------------------------------\")"
   ]
  },
  {
   "cell_type": "markdown",
   "metadata": {},
   "source": [
    "### Lookback Option\n",
    "$O_1 = max_{t\\leq 1}S_t$"
   ]
  },
  {
   "cell_type": "code",
   "execution_count": 111,
   "metadata": {},
   "outputs": [],
   "source": [
    "pB = round(np.average(np.array([j if (j>0) else 0 for j in np.array([max(i) - 110 for i in stock_plot])])), 4)"
   ]
  },
  {
   "cell_type": "code",
   "execution_count": 112,
   "metadata": {},
   "outputs": [
    {
     "name": "stdout",
     "output_type": "stream",
     "text": [
      "-------------------------------------------------------------------\n",
      "The price of the option is according to black-scholes 17.6867.\n",
      "-------------------------------------------------------------------\n"
     ]
    }
   ],
   "source": [
    "print(\"-------------------------------------------------------------------\")\n",
    "print(\"The price of the option is according to black-scholes {}.\".format(pB))\n",
    "print(\"-------------------------------------------------------------------\")"
   ]
  },
  {
   "cell_type": "markdown",
   "metadata": {},
   "source": [
    "### Asian Option \n",
    "$O_1 = exp(\\int^{1}_{0}log S_t \\ dt)$"
   ]
  },
  {
   "cell_type": "code",
   "execution_count": 142,
   "metadata": {},
   "outputs": [
    {
     "data": {
      "text/plain": [
       "array([[1.00000000e+02, 1.05292157e+04, 1.11285249e+06, ...,\n",
       "                   inf,            inf,            inf],\n",
       "       [1.00000000e+02, 1.01667888e+04, 1.04238748e+06, ...,\n",
       "                   inf,            inf,            inf],\n",
       "       [1.00000000e+02, 9.54012368e+03, 8.95357863e+05, ...,\n",
       "                   inf,            inf,            inf],\n",
       "       ...,\n",
       "       [1.00000000e+02, 1.01308747e+04, 1.01371538e+06, ...,\n",
       "                   inf,            inf,            inf],\n",
       "       [1.00000000e+02, 9.96989793e+03, 9.92721532e+05, ...,\n",
       "                   inf,            inf,            inf],\n",
       "       [1.00000000e+02, 9.62659344e+03, 9.16126409e+05, ...,\n",
       "                   inf,            inf,            inf]])"
      ]
     },
     "execution_count": 142,
     "metadata": {},
     "output_type": "execute_result"
    }
   ],
   "source": [
    "np.exp(np.cumsum(np.log(stock_plot), axis=1))"
   ]
  },
  {
   "cell_type": "code",
   "execution_count": null,
   "metadata": {},
   "outputs": [],
   "source": []
  },
  {
   "cell_type": "code",
   "execution_count": null,
   "metadata": {
    "collapsed": true
   },
   "outputs": [],
   "source": []
  }
 ],
 "metadata": {
  "kernelspec": {
   "display_name": "Python 3",
   "language": "python",
   "name": "python3"
  },
  "language_info": {
   "codemirror_mode": {
    "name": "ipython",
    "version": 3
   },
   "file_extension": ".py",
   "mimetype": "text/x-python",
   "name": "python",
   "nbconvert_exporter": "python",
   "pygments_lexer": "ipython3",
   "version": "3.7.0"
  }
 },
 "nbformat": 4,
 "nbformat_minor": 2
}
