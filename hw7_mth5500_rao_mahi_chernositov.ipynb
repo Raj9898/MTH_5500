{
 "cells": [
  {
   "cell_type": "markdown",
   "metadata": {},
   "source": [
    "## Homework 7 - Numerical "
   ]
  },
  {
   "cell_type": "code",
   "execution_count": 34,
   "metadata": {},
   "outputs": [],
   "source": [
    "import math\n",
    "import scipy.stats as ss \n",
    "import numpy as np \n",
    "import matplotlib.pyplot as plt \n",
    "plt.style.use('seaborn-whitegrid')\n",
    "%matplotlib inline"
   ]
  },
  {
   "cell_type": "code",
   "execution_count": 35,
   "metadata": {},
   "outputs": [],
   "source": [
    "np.random.seed(1)"
   ]
  },
  {
   "cell_type": "code",
   "execution_count": 36,
   "metadata": {},
   "outputs": [],
   "source": [
    "# time index for the data with 1/100 discretization\n",
    "time_index = np.arange(0.01, 1.01, 0.01)"
   ]
  },
  {
   "cell_type": "code",
   "execution_count": 37,
   "metadata": {},
   "outputs": [],
   "source": [
    "# standard brownian motion covariance matrix \n",
    "bm_cov = np.reshape(np.array([i if i < j else j for j in time_index for i in time_index]), (100,100))"
   ]
  },
  {
   "cell_type": "code",
   "execution_count": 38,
   "metadata": {},
   "outputs": [],
   "source": [
    "# the standard brownian motion to be implemented \n",
    "brownian_motion = np.insert(np.array([np.linalg.cholesky(bm_cov).dot(np.random.normal(loc=0, \n",
    "                                                                                      scale=1, \n",
    "                                                                                      size=100)) for _ in range(100000)]), \n",
    "                                      obj=0, values=0, axis=1)"
   ]
  },
  {
   "cell_type": "code",
   "execution_count": 39,
   "metadata": {},
   "outputs": [
    {
     "data": {
      "text/plain": [
       "array([[ 0.        ,  0.16243454,  0.1012589 , ...,  0.5980254 ,\n",
       "         0.53602532,  0.60582852],\n",
       "       [ 0.        , -0.04471286,  0.07773791, ...,  1.3424084 ,\n",
       "         1.42350357,  1.52794778],\n",
       "       [ 0.        , -0.04008782,  0.04231274, ...,  0.13517043,\n",
       "         0.0396279 ,  0.09821895],\n",
       "       ...,\n",
       "       [ 0.        , -0.12741546, -0.09444834, ..., -0.08712292,\n",
       "        -0.13733226, -0.12386239],\n",
       "       [ 0.        , -0.06349617, -0.05982003, ..., -1.41911905,\n",
       "        -1.51724478, -1.4409592 ],\n",
       "       [ 0.        , -0.09756999, -0.00791429, ..., -0.68620901,\n",
       "        -0.75681393, -0.8265847 ]])"
      ]
     },
     "execution_count": 39,
     "metadata": {},
     "output_type": "execute_result"
    }
   ],
   "source": [
    "brownian_motion"
   ]
  },
  {
   "cell_type": "markdown",
   "metadata": {},
   "source": [
    "### Bias sampling à la Girsanov."
   ]
  },
  {
   "cell_type": "markdown",
   "metadata": {},
   "source": [
    "We consider a Brownian motion with drift $\\theta = 1$:\n",
    "\n",
    "$$\\tilde{B_t}=B_t +\\theta t$$\n"
   ]
  },
  {
   "cell_type": "markdown",
   "metadata": {},
   "source": [
    "Generate $100000$ paths for $(\\tilde{B_t}\\in [0, 1])$ using a $1/100$ discretization."
   ]
  },
  {
   "cell_type": "code",
   "execution_count": 40,
   "metadata": {},
   "outputs": [],
   "source": [
    "b_tilde = brownian_motion + np.insert(time_index, 0, 0)"
   ]
  },
  {
   "cell_type": "code",
   "execution_count": 41,
   "metadata": {},
   "outputs": [
    {
     "data": {
      "text/plain": [
       "array([[ 0.        ,  0.17243454,  0.1212589 , ...,  1.5780254 ,\n",
       "         1.52602532,  1.60582852],\n",
       "       [ 0.        , -0.03471286,  0.09773791, ...,  2.3224084 ,\n",
       "         2.41350357,  2.52794778],\n",
       "       [ 0.        , -0.03008782,  0.06231274, ...,  1.11517043,\n",
       "         1.0296279 ,  1.09821895],\n",
       "       ...,\n",
       "       [ 0.        , -0.11741546, -0.07444834, ...,  0.89287708,\n",
       "         0.85266774,  0.87613761],\n",
       "       [ 0.        , -0.05349617, -0.03982003, ..., -0.43911905,\n",
       "        -0.52724478, -0.4409592 ],\n",
       "       [ 0.        , -0.08756999,  0.01208571, ...,  0.29379099,\n",
       "         0.23318607,  0.1734153 ]])"
      ]
     },
     "execution_count": 41,
     "metadata": {},
     "output_type": "execute_result"
    }
   ],
   "source": [
    "b_tilde"
   ]
  },
  {
   "cell_type": "markdown",
   "metadata": {},
   "source": [
    "Among this $100000$ paths, sample $1000$ paths not uniformly but proportionally to their weight:\n",
    "\n",
    "$$M(\\tilde{B}) = e^{-\\tilde{B_1}+1/2}$$\n",
    "\n",
    "For this, you can use the command `numpy.random.choice` Note that you will need to normalize the weights $M(\\tilde{B})$ so that the sum over the $100000$ paths is $1$, see parameter $p$ in random.choice."
   ]
  },
  {
   "cell_type": "code",
   "execution_count": 61,
   "metadata": {},
   "outputs": [],
   "source": [
    "weight = np.exp(-b_tilde[:,-1] + 0.5)"
   ]
  },
  {
   "cell_type": "code",
   "execution_count": 62,
   "metadata": {},
   "outputs": [
    {
     "data": {
      "text/plain": [
       "99961.10821865349"
      ]
     },
     "execution_count": 62,
     "metadata": {},
     "output_type": "execute_result"
    }
   ],
   "source": [
    "sum(weight)"
   ]
  },
  {
   "cell_type": "code",
   "execution_count": null,
   "metadata": {},
   "outputs": [],
   "source": []
  },
  {
   "cell_type": "code",
   "execution_count": null,
   "metadata": {},
   "outputs": [],
   "source": []
  },
  {
   "cell_type": "markdown",
   "metadata": {},
   "source": [
    "Draw the histogram of $\\tilde{B_{1/2}}$ of the sample of size $1000$ drawn in part b). It should look like a Gaussian PDF with mean $0$ and variance $1/2$."
   ]
  },
  {
   "cell_type": "code",
   "execution_count": null,
   "metadata": {},
   "outputs": [],
   "source": []
  },
  {
   "cell_type": "markdown",
   "metadata": {},
   "source": [
    "Plot the $100$ paths from part b)."
   ]
  },
  {
   "cell_type": "code",
   "execution_count": null,
   "metadata": {},
   "outputs": [],
   "source": []
  },
  {
   "cell_type": "code",
   "execution_count": null,
   "metadata": {},
   "outputs": [],
   "source": []
  },
  {
   "cell_type": "code",
   "execution_count": null,
   "metadata": {},
   "outputs": [],
   "source": []
  }
 ],
 "metadata": {
  "kernelspec": {
   "display_name": "Python 3",
   "language": "python",
   "name": "python3"
  },
  "language_info": {
   "codemirror_mode": {
    "name": "ipython",
    "version": 3
   },
   "file_extension": ".py",
   "mimetype": "text/x-python",
   "name": "python",
   "nbconvert_exporter": "python",
   "pygments_lexer": "ipython3",
   "version": "3.7.0"
  }
 },
 "nbformat": 4,
 "nbformat_minor": 2
}
