{
 "cells": [
  {
   "cell_type": "markdown",
   "metadata": {},
   "source": [
    "## Homework 7 - Numerical "
   ]
  },
  {
   "cell_type": "code",
   "execution_count": 1,
   "metadata": {},
   "outputs": [],
   "source": [
    "import math\n",
    "import scipy.stats as ss \n",
    "import numpy as np \n",
    "import matplotlib.pyplot as plt \n",
    "plt.style.use('seaborn')\n",
    "%matplotlib inline"
   ]
  },
  {
   "cell_type": "code",
   "execution_count": 2,
   "metadata": {},
   "outputs": [],
   "source": [
    "np.random.seed(1)"
   ]
  },
  {
   "cell_type": "code",
   "execution_count": 3,
   "metadata": {},
   "outputs": [],
   "source": [
    "# time index for the data \n",
    "time_index = np.arange(0.01, 1.01, 0.001)"
   ]
  },
  {
   "cell_type": "markdown",
   "metadata": {},
   "source": [
    "Simulate 100 paths for the diffusions below on $[0,1]$ using the Euler scheme (see Chapter 7) for a discretization of $0.01$"
   ]
  },
  {
   "cell_type": "code",
   "execution_count": 4,
   "metadata": {},
   "outputs": [],
   "source": [
    "# standard brownian motion covariance matrix \n",
    "bm_cov = np.reshape(np.array([i if i < j else j for j in time_index for i in time_index]), (1000,1000))"
   ]
  },
  {
   "cell_type": "code",
   "execution_count": 5,
   "metadata": {},
   "outputs": [],
   "source": [
    "# the standard brownian motion to be implemented \n",
    "brownian_motion = np.insert(np.array([np.linalg.cholesky(bm_cov).dot(np.random.normal(loc=0, \n",
    "                                                                                      scale=1, \n",
    "                                                                                      size=1000)) for _ in range(1000)]), \n",
    "                                      obj=0, values=0, axis=1)"
   ]
  },
  {
   "cell_type": "code",
   "execution_count": 6,
   "metadata": {},
   "outputs": [
    {
     "data": {
      "text/plain": [
       "array([[ 0.        ,  0.16243454,  0.1430891 , ...,  1.33314816,\n",
       "         1.34433853,  1.33842649],\n",
       "       [ 0.        , -0.01532362, -0.09224629, ...,  0.78930145,\n",
       "         0.80977325,  0.85362853],\n",
       "       [ 0.        ,  0.04895166,  0.05650305, ..., -0.58214407,\n",
       "        -0.62641668, -0.66756   ],\n",
       "       ...,\n",
       "       [ 0.        ,  0.09123177,  0.12316604, ..., -0.41851636,\n",
       "        -0.46726075, -0.46452152],\n",
       "       [ 0.        ,  0.12724959,  0.13494298, ...,  0.15002871,\n",
       "         0.20213033,  0.17245073],\n",
       "       [ 0.        , -0.01734895,  0.0174026 , ...,  1.12599052,\n",
       "         1.16349639,  1.17340691]])"
      ]
     },
     "execution_count": 6,
     "metadata": {},
     "output_type": "execute_result"
    }
   ],
   "source": [
    "brownian_motion"
   ]
  },
  {
   "cell_type": "markdown",
   "metadata": {},
   "source": [
    "### Bias sampling à la Girsanov."
   ]
  },
  {
   "cell_type": "markdown",
   "metadata": {},
   "source": [
    "We consider a Brownian motion with drift $\\theta = 1$:\n",
    "\n",
    "$$\\tilde{B_t}=B_t +\\theta t$$\n"
   ]
  },
  {
   "cell_type": "markdown",
   "metadata": {},
   "source": [
    "Generate $100000$ paths for $(\\tilde{B_t}\\in [0, 1])$ using a $1/100$ discretization."
   ]
  },
  {
   "cell_type": "code",
   "execution_count": 7,
   "metadata": {},
   "outputs": [],
   "source": [
    "b_tilde = brownian_motion + np.insert(time_index, 0, 0)"
   ]
  },
  {
   "cell_type": "code",
   "execution_count": 8,
   "metadata": {},
   "outputs": [
    {
     "data": {
      "text/plain": [
       "array([[ 0.        ,  0.17243454,  0.1540891 , ...,  2.34014816,\n",
       "         2.35233853,  2.34742649],\n",
       "       [ 0.        , -0.00532362, -0.08124629, ...,  1.79630145,\n",
       "         1.81777325,  1.86262853],\n",
       "       [ 0.        ,  0.05895166,  0.06750305, ...,  0.42485593,\n",
       "         0.38158332,  0.34144   ],\n",
       "       ...,\n",
       "       [ 0.        ,  0.10123177,  0.13416604, ...,  0.58848364,\n",
       "         0.54073925,  0.54447848],\n",
       "       [ 0.        ,  0.13724959,  0.14594298, ...,  1.15702871,\n",
       "         1.21013033,  1.18145073],\n",
       "       [ 0.        , -0.00734895,  0.0284026 , ...,  2.13299052,\n",
       "         2.17149639,  2.18240691]])"
      ]
     },
     "execution_count": 8,
     "metadata": {},
     "output_type": "execute_result"
    }
   ],
   "source": [
    "b_tilde"
   ]
  },
  {
   "cell_type": "markdown",
   "metadata": {},
   "source": [
    "Among this $100000$ paths, sample $1000$ paths not uniformly but proportionally to their weight:\n",
    "\n",
    "$$M(\\tilde{B}) = e^{-\\tilde{B_1}+1/2}$$\n",
    "\n",
    "For this, you can use the command `numpy.random.choice` Note that you will need to normalize the weights $M(\\tilde{B})$ so that the sum over the $100000$ paths is $1$, see parameter $p$ in random.choice."
   ]
  },
  {
   "cell_type": "code",
   "execution_count": null,
   "metadata": {},
   "outputs": [],
   "source": [
    "np.random.choice(a=100000, size=1000, )"
   ]
  },
  {
   "cell_type": "code",
   "execution_count": 17,
   "metadata": {},
   "outputs": [
    {
     "data": {
      "text/plain": [
       "938.1294749342957"
      ]
     },
     "execution_count": 17,
     "metadata": {},
     "output_type": "execute_result"
    }
   ],
   "source": [
    "sum(np.exp(-b_tilde[:,-1]+0.5))"
   ]
  },
  {
   "cell_type": "markdown",
   "metadata": {},
   "source": [
    "Draw the histogram of $\\tilde{B_{1/2}}$ of the sample of size $1000$ drawn in part b). It should look like a Gaussian PDF with mean $0$ and variance $1/2$."
   ]
  },
  {
   "cell_type": "code",
   "execution_count": null,
   "metadata": {},
   "outputs": [],
   "source": []
  },
  {
   "cell_type": "markdown",
   "metadata": {},
   "source": [
    "Plot the $100$ paths from part b)."
   ]
  },
  {
   "cell_type": "code",
   "execution_count": null,
   "metadata": {},
   "outputs": [],
   "source": []
  },
  {
   "cell_type": "code",
   "execution_count": null,
   "metadata": {},
   "outputs": [],
   "source": []
  }
 ],
 "metadata": {
  "kernelspec": {
   "display_name": "Python 3",
   "language": "python",
   "name": "python3"
  },
  "language_info": {
   "codemirror_mode": {
    "name": "ipython",
    "version": 3
   },
   "file_extension": ".py",
   "mimetype": "text/x-python",
   "name": "python",
   "nbconvert_exporter": "python",
   "pygments_lexer": "ipython3",
   "version": "3.7.0"
  }
 },
 "nbformat": 4,
 "nbformat_minor": 2
}
