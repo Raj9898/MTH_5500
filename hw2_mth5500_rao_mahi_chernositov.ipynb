{
 "cells": [
  {
   "cell_type": "markdown",
   "metadata": {},
   "source": [
    "## Homework 2 - Numerical"
   ]
  },
  {
   "cell_type": "code",
   "execution_count": 2,
   "metadata": {},
   "outputs": [],
   "source": [
    "import math\n",
    "import numpy as np \n",
    "import matplotlib.pyplot as plt "
   ]
  },
  {
   "cell_type": "markdown",
   "metadata": {},
   "source": [
    "#### (a) The command numpy.linalg.cholesky in Python gives the Cholesky decomposition of a covariance matrix $\\zeta$. Use this to plot 100 paths of the following processes on [0, 1] using a discretization of 0.01.\n",
    "1. Brownian motion: $\\zeta(s,t) = s ∧ t$ with mean 0\n",
    "2. Brownian bridge: $\\zeta(s, t) = s(1 − t)$ for $s ≤ t$ with mean 0.\n",
    "3. Ornstein-Uhlenbeck process: $\\zeta(s, t) = \\frac{1}{2}e^{-2(t−s)}(1-e^{-2s})$ with mean 0 (so that $Y_0 = 0$).\n",
    "4. Ornstein-Uhlenbeck process: $\\zeta(s, t) = \\frac{1}{2}e^{-2(t−s)}$ with mean 0 (so that $Y_0$ is Gaussian random variable of mean 0 and variance 1/2)."
   ]
  },
  {
   "cell_type": "code",
   "execution_count": 3,
   "metadata": {},
   "outputs": [],
   "source": [
    "time_index = np.arange(0, 1, 0.01)\n",
    "base = np.random.normal(size=100)"
   ]
  },
  {
   "cell_type": "code",
   "execution_count": 4,
   "metadata": {},
   "outputs": [
    {
     "data": {
      "text/plain": [
       "array([[1., 0., 0., ..., 0., 0., 0.],\n",
       "       [0., 1., 0., ..., 0., 0., 0.],\n",
       "       [0., 0., 1., ..., 0., 0., 0.],\n",
       "       ...,\n",
       "       [0., 0., 0., ..., 1., 0., 0.],\n",
       "       [0., 0., 0., ..., 0., 1., 0.],\n",
       "       [0., 0., 0., ..., 0., 0., 1.]])"
      ]
     },
     "execution_count": 4,
     "metadata": {},
     "output_type": "execute_result"
    }
   ],
   "source": [
    "np.eye(100)"
   ]
  },
  {
   "cell_type": "code",
   "execution_count": null,
   "metadata": {},
   "outputs": [],
   "source": []
  },
  {
   "cell_type": "code",
   "execution_count": null,
   "metadata": {},
   "outputs": [],
   "source": []
  },
  {
   "cell_type": "code",
   "execution_count": null,
   "metadata": {},
   "outputs": [],
   "source": []
  },
  {
   "cell_type": "markdown",
   "metadata": {},
   "source": [
    "### Brownian motion"
   ]
  },
  {
   "cell_type": "code",
   "execution_count": null,
   "metadata": {},
   "outputs": [],
   "source": [
    "\n",
    "np.linalg.cholesky(C)"
   ]
  },
  {
   "cell_type": "code",
   "execution_count": 7,
   "metadata": {},
   "outputs": [
    {
     "data": {
      "text/plain": [
       "array([ 0.14074425, -0.28284971, -2.43314862,  2.32367329,  1.76217164,\n",
       "        1.12661217,  1.24232377,  2.7419434 , -1.10933182,  0.50090345,\n",
       "       -0.82750595,  2.00745892,  1.61582343,  0.40102389,  0.65025038,\n",
       "       -1.56193785, -0.03678013, -3.2833671 , -1.75720413, -2.31449866,\n",
       "        1.10100374,  0.11465873,  1.04728387, -0.21692329, -0.54649115,\n",
       "       -0.62883457, -0.31006661,  1.67871031,  1.19301337, -0.40957122,\n",
       "       -2.01139812, -1.31161693, -0.49996141,  0.17345679, -0.02008928,\n",
       "       -0.03633942,  1.11753898, -1.40610155, -0.07052947,  0.0553907 ,\n",
       "       -0.23861154,  1.07345107, -1.53614687, -0.99076403, -0.41486647,\n",
       "        0.97152135, -0.2096967 ,  1.34556341, -0.94316182,  0.22563805,\n",
       "       -0.20733299, -0.56252851,  0.1572286 ,  0.7030731 , -1.49772612,\n",
       "       -0.76947487, -0.1364471 , -1.09260142, -0.02426359,  1.04023723,\n",
       "       -0.97053607, -1.05104009,  0.48716842, -1.03060442,  0.54764557,\n",
       "       -0.42163661, -0.18901974, -1.61463865,  0.27595929,  1.79834296,\n",
       "       -0.9152362 , -2.74909014,  0.235647  ,  0.43816033, -0.3448439 ,\n",
       "        0.0112772 ,  1.46817628,  0.17444593, -1.10070336,  2.49520086,\n",
       "        1.23812048,  1.08982274, -0.27651471,  0.00408807, -1.35819842,\n",
       "        1.29086003,  0.66580663,  0.80990961, -0.23722965, -0.67128025,\n",
       "        0.22238677, -1.47619127,  0.27205323,  0.08078085, -1.42756446,\n",
       "        0.51716581,  0.04342613,  1.44115575, -0.59717396, -0.07567062])"
      ]
     },
     "execution_count": 7,
     "metadata": {},
     "output_type": "execute_result"
    }
   ],
   "source": [
    "base"
   ]
  },
  {
   "cell_type": "markdown",
   "metadata": {},
   "source": [
    "### Brownian bridge"
   ]
  },
  {
   "cell_type": "code",
   "execution_count": null,
   "metadata": {},
   "outputs": [],
   "source": []
  },
  {
   "cell_type": "code",
   "execution_count": null,
   "metadata": {},
   "outputs": [],
   "source": []
  },
  {
   "cell_type": "markdown",
   "metadata": {},
   "source": [
    "### Ornstein-Uhlenbeck process"
   ]
  },
  {
   "cell_type": "code",
   "execution_count": null,
   "metadata": {},
   "outputs": [],
   "source": []
  },
  {
   "cell_type": "code",
   "execution_count": null,
   "metadata": {},
   "outputs": [],
   "source": []
  },
  {
   "cell_type": "markdown",
   "metadata": {},
   "source": [
    "### Ornstein-Uhlenbeck process (variance 1/2)"
   ]
  },
  {
   "cell_type": "code",
   "execution_count": null,
   "metadata": {},
   "outputs": [],
   "source": []
  },
  {
   "cell_type": "code",
   "execution_count": null,
   "metadata": {},
   "outputs": [],
   "source": []
  },
  {
   "cell_type": "markdown",
   "metadata": {},
   "source": [
    "#### (b) Consider the construction of Brownian bridge in Exercise 5. Use the 100 paths of Brownian motion given in the last question to plot 100 paths of Brownian bridge this way. Compare this to the 100 paths of Brownian bridge in the last question on the same random sample. What do you notice?"
   ]
  },
  {
   "cell_type": "code",
   "execution_count": null,
   "metadata": {},
   "outputs": [],
   "source": []
  },
  {
   "cell_type": "code",
   "execution_count": null,
   "metadata": {},
   "outputs": [],
   "source": []
  }
 ],
 "metadata": {
  "kernelspec": {
   "display_name": "Python 3",
   "language": "python",
   "name": "python3"
  },
  "language_info": {
   "codemirror_mode": {
    "name": "ipython",
    "version": 3
   },
   "file_extension": ".py",
   "mimetype": "text/x-python",
   "name": "python",
   "nbconvert_exporter": "python",
   "pygments_lexer": "ipython3",
   "version": "3.7.0"
  }
 },
 "nbformat": 4,
 "nbformat_minor": 2
}
