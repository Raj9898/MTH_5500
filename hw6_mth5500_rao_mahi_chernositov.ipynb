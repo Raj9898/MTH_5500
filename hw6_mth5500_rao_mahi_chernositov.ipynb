{
 "cells": [
  {
   "cell_type": "markdown",
   "metadata": {},
   "source": [
    "## Homework 6 - Numerical "
   ]
  },
  {
   "cell_type": "code",
   "execution_count": 3,
   "metadata": {},
   "outputs": [],
   "source": [
    "import math\n",
    "import scipy.stats as ss \n",
    "import numpy as np \n",
    "import matplotlib.pyplot as plt \n",
    "plt.style.use('seaborn')\n",
    "%matplotlib inline"
   ]
  },
  {
   "cell_type": "code",
   "execution_count": 4,
   "metadata": {},
   "outputs": [],
   "source": [
    "np.random.seed(0)"
   ]
  },
  {
   "cell_type": "code",
   "execution_count": 5,
   "metadata": {},
   "outputs": [],
   "source": [
    "# time index for the data \n",
    "time_index = np.arange(0.01, 1.01, 0.001)"
   ]
  },
  {
   "cell_type": "code",
   "execution_count": 6,
   "metadata": {},
   "outputs": [],
   "source": [
    "# time incrementing per each value of t\n",
    "time_increment = time_index[1:] - time_index[:-1]"
   ]
  },
  {
   "cell_type": "markdown",
   "metadata": {},
   "source": [
    "Simulate 100 paths for the diffusions below on $[0,1]$ using the Euler scheme (see Chapter 7) for a discretization of $0.01$"
   ]
  },
  {
   "cell_type": "code",
   "execution_count": 7,
   "metadata": {},
   "outputs": [],
   "source": [
    "# standard brownian motion covariance matrix \n",
    "bm_cov = np.reshape(np.array([i if i < j else j for j in time_index for i in time_index]), (1000,1000))"
   ]
  },
  {
   "cell_type": "code",
   "execution_count": 8,
   "metadata": {},
   "outputs": [],
   "source": [
    "# the standard brownian motion to be implemented \n",
    "brownian_motion = np.insert(np.array([np.linalg.cholesky(bm_cov).dot(np.random.normal(loc=0, \n",
    "                                                                                      scale=1, \n",
    "                                                                                      size=1000)) for _ in range(1000)]), \n",
    "                                      obj=0, values=0, axis=1)"
   ]
  },
  {
   "cell_type": "code",
   "execution_count": 9,
   "metadata": {},
   "outputs": [],
   "source": [
    "brownian_increments = np.delete(np.roll(brownian_motion,-1) - brownian_motion, obj=1000, axis=1)"
   ]
  },
  {
   "cell_type": "code",
   "execution_count": 10,
   "metadata": {},
   "outputs": [
    {
     "data": {
      "text/plain": [
       "array([[ 0.17640523,  0.01265408,  0.03095041, ...,  0.00297862,\n",
       "        -0.03629064, -0.01132456],\n",
       "       [ 0.05559627,  0.0282225 , -0.01335477, ...,  0.00501012,\n",
       "        -0.03611009, -0.04145652],\n",
       "       [-0.15329211, -0.05413725,  0.00145892, ..., -0.00608436,\n",
       "        -0.03834311, -0.00254875],\n",
       "       ...,\n",
       "       [ 0.04362489, -0.04102202,  0.06315627, ..., -0.01330407,\n",
       "        -0.00344507, -0.0142965 ],\n",
       "       [-0.01003402, -0.00424926, -0.00476249, ...,  0.01110308,\n",
       "         0.04304031, -0.04461615],\n",
       "       [-0.12446885, -0.0380794 ,  0.03138746, ..., -0.02521229,\n",
       "         0.02766222,  0.04338109]])"
      ]
     },
     "execution_count": 10,
     "metadata": {},
     "output_type": "execute_result"
    }
   ],
   "source": [
    "brownian_increments"
   ]
  },
  {
   "cell_type": "markdown",
   "metadata": {},
   "source": [
    "Consider the Black-Scholes model under its risk-neutral probability\n",
    "\n",
    "$$ d\\tilde{S_t} = \\sigma \\tilde{S_t} d\\tilde{B_t}, \\ \\ \\ \\ \\ \\ \\  S_0 = 100 \\ \\ \\ \\ \\ \\ \\   \\sigma=0.3$$\n",
    "\n",
    "for some Brownian motion $(\\tilde{B_t})$. For simplicity, assume that the interest rate is 0. Use the pricing formula $\\tilde{O_0}=\\mathop{{}\\mathbb{E}}[\\tilde{O_1}]$ to price the following options with maturity 1\n",
    "using the average over 1000 paths with a discretization of 0.001"
   ]
  },
  {
   "cell_type": "markdown",
   "metadata": {},
   "source": [
    "$$where \\ \\ \\tilde{S_t}= S_0exp(\\sigma \\tilde{B_t} - \\sigma^2 / \\ 2t)$$"
   ]
  },
  {
   "cell_type": "code",
   "execution_count": 11,
   "metadata": {},
   "outputs": [],
   "source": [
    "stock_tilde = 100*np.exp((0.3*np.delete(brownian_motion, 999,1)-(0.3**2/(2*time_index))))"
   ]
  },
  {
   "cell_type": "code",
   "execution_count": 12,
   "metadata": {},
   "outputs": [],
   "source": [
    "def present_value(strike:float, maturity:float, risk_free:float=0.0):\n",
    "    return strike*math.exp(-risk_free*maturity)"
   ]
  },
  {
   "cell_type": "code",
   "execution_count": 13,
   "metadata": {},
   "outputs": [],
   "source": [
    "def black_scholes_call(stock:float, strike:float, sigma:float, maturity:float, risk_free:float=0.0):\n",
    "    vol_time = sigma*math.sqrt(maturity)\n",
    "    d1 = (1/vol_time) * (math.log(stock/strike) + (risk_free+(sigma**2/2))*maturity)\n",
    "    d2 = d1 - vol_time\n",
    "    \n",
    "    return ss.norm.cdf(d1)*stock - ss.norm.cdf(d2)*present_value(strike, maturity, risk_free)"
   ]
  },
  {
   "cell_type": "code",
   "execution_count": 24,
   "metadata": {},
   "outputs": [],
   "source": [
    "# for calculating the itterative expression\n",
    "def sFunc(brownian:np.array, sigma:int, initial:int, size:int):\n",
    "    temp = initial\n",
    "    new_arr = [temp]*(size+1)\n",
    "    for i in range(size):\n",
    "        new_arr[i+1] = temp + (temp * brownian[i] * sigma)  \n",
    "        temp += (temp * brownian[i] * sigma)  \n",
    "    return np.array(new_arr) "
   ]
  },
  {
   "cell_type": "code",
   "execution_count": 30,
   "metadata": {},
   "outputs": [],
   "source": [
    "stock_plot = np.apply_along_axis(func1d=sFunc, axis=1, \n",
    "                                 arr=np.delete(brownian_increments, 999, 1), \n",
    "                                 sigma=0.3, initial=100, size=999)"
   ]
  },
  {
   "cell_type": "code",
   "execution_count": null,
   "metadata": {},
   "outputs": [],
   "source": []
  },
  {
   "cell_type": "markdown",
   "metadata": {},
   "source": [
    "### Standard Call Option\n",
    "$O_1 = (S_1 - 110)^+$"
   ]
  },
  {
   "cell_type": "code",
   "execution_count": 31,
   "metadata": {},
   "outputs": [],
   "source": [
    "# simple call option\n",
    "p1 = round(black_scholes_call(100, 110, 0.3, 1, 0), 4)"
   ]
  },
  {
   "cell_type": "code",
   "execution_count": 32,
   "metadata": {},
   "outputs": [],
   "source": [
    "# take terminal price of the stock path \n",
    "s1 = np.reshape(stock_plot, (1000,1000))[:,-1]"
   ]
  },
  {
   "cell_type": "code",
   "execution_count": 33,
   "metadata": {},
   "outputs": [],
   "source": [
    "# simulated price for call option, taking average of payouts\n",
    "pA = round(np.average(np.array([i if i>0 else 0 for i in (s1-110)])), 4)"
   ]
  },
  {
   "cell_type": "code",
   "execution_count": 34,
   "metadata": {},
   "outputs": [
    {
     "name": "stdout",
     "output_type": "stream",
     "text": [
      "-------------------------------------------------------------------\n",
      "The price of the option according to black-scholes is:   $8.141\n",
      "Our simulation yeilded a price of                        $8.8015\n",
      "-------------------------------------------------------------------\n"
     ]
    }
   ],
   "source": [
    "print(\"-------------------------------------------------------------------\")\n",
    "print(\"The price of the option according to black-scholes is:   ${}\\nOur simulation yeilded a price of                        ${}\".format(p1, pA))\n",
    "print(\"-------------------------------------------------------------------\")"
   ]
  },
  {
   "cell_type": "markdown",
   "metadata": {},
   "source": [
    "### Lookback Option\n",
    "$O_1 = max_{t\\leq 1}S_t$"
   ]
  },
  {
   "cell_type": "code",
   "execution_count": 35,
   "metadata": {},
   "outputs": [],
   "source": [
    "pB = round(np.average(np.array([max(i) for i in stock_plot])), 5)"
   ]
  },
  {
   "cell_type": "code",
   "execution_count": 36,
   "metadata": {},
   "outputs": [
    {
     "name": "stdout",
     "output_type": "stream",
     "text": [
      "-------------------------------------------------------------------\n",
      "The price of the option according to the simulation is 126.03492.\n",
      "-------------------------------------------------------------------\n"
     ]
    }
   ],
   "source": [
    "print(\"-------------------------------------------------------------------\")\n",
    "print(\"The price of the option according to the simulation is {}.\".format(pB))\n",
    "print(\"-------------------------------------------------------------------\")"
   ]
  },
  {
   "cell_type": "markdown",
   "metadata": {},
   "source": [
    "### Asian Option \n",
    "$O_1 = exp(\\int^{1}_{0}log S_t \\ dt)$"
   ]
  },
  {
   "cell_type": "code",
   "execution_count": 50,
   "metadata": {},
   "outputs": [],
   "source": [
    "pC = np.average(np.exp((1/stock_plot[:,-1])-(1/stock_plot[:,0])))"
   ]
  },
  {
   "cell_type": "code",
   "execution_count": 51,
   "metadata": {},
   "outputs": [
    {
     "name": "stdout",
     "output_type": "stream",
     "text": [
      "-------------------------------------------------------------------\n",
      "The price of the option according to the simulation is 1.0007792390647687.\n",
      "-------------------------------------------------------------------\n"
     ]
    }
   ],
   "source": [
    "print(\"-------------------------------------------------------------------\")\n",
    "print(\"The price of the option according to the simulation is {}.\".format(pC))\n",
    "print(\"-------------------------------------------------------------------\")"
   ]
  },
  {
   "cell_type": "code",
   "execution_count": null,
   "metadata": {
    "collapsed": true
   },
   "outputs": [],
   "source": []
  }
 ],
 "metadata": {
  "kernelspec": {
   "display_name": "Python 3",
   "language": "python",
   "name": "python3"
  },
  "language_info": {
   "codemirror_mode": {
    "name": "ipython",
    "version": 3
   },
   "file_extension": ".py",
   "mimetype": "text/x-python",
   "name": "python",
   "nbconvert_exporter": "python",
   "pygments_lexer": "ipython3",
   "version": "3.7.0"
  }
 },
 "nbformat": 4,
 "nbformat_minor": 2
}
